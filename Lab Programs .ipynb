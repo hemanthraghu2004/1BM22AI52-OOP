{
 "cells": [
  {
   "cell_type": "code",
   "execution_count": 3,
   "id": "72f3f609",
   "metadata": {},
   "outputs": [
    {
     "name": "stdout",
     "output_type": "stream",
     "text": [
      "example@email.com is a valid email address.\n"
     ]
    }
   ],
   "source": [
    "import re\n",
    "\n",
    "def is_valid_email(email):\n",
    "    # Regular expression for a simple email validation\n",
    "    email_pattern = re.compile(r'^[a-zA-Z0-9._%+-]+@[a-zA-Z0-9.-]+\\.[a-zA-Z]{2,}$')\n",
    "\n",
    "    # Use the re.match() function to check if the email matches the pattern\n",
    "    if email_pattern.match(email):\n",
    "        return True\n",
    "    else:\n",
    "        return False\n",
    "\n",
    "# Example usage:\n",
    "email_address = \"example@email.com\"\n",
    "result = is_valid_email(email_address)\n",
    "\n",
    "if result:\n",
    "    print(f\"{email_address} is a valid email address.\")\n",
    "else:\n",
    "    print(f\"{email_address} is not a valid email address.\")"
   ]
  },
  {
   "cell_type": "code",
   "execution_count": 4,
   "id": "be1fa2d6",
   "metadata": {},
   "outputs": [
    {
     "name": "stdout",
     "output_type": "stream",
     "text": [
      "Original Text: Hello, World!\n",
      "Encrypted Text: Khoor, Zruog!\n",
      "Encrypted Text: Khoor, Zruog!\n",
      "Decrypted Text: Hello, World!\n"
     ]
    }
   ],
   "source": [
    "def encrypt(text, key):\n",
    "    encrypted_text = \"\"\n",
    "\n",
    "    for char in text:\n",
    "        # Check if the character is a letter\n",
    "        if char.isalpha():\n",
    "            # Determine if it's an uppercase or lowercase letter\n",
    "            is_upper = char.isupper()\n",
    "            \n",
    "            # Convert the letter to its ASCII code, apply the shift, and convert back to a letter\n",
    "            shifted_char = chr((ord(char) - ord('A' if is_upper else 'a') + key) % 26 + ord('A' if is_upper else 'a'))\n",
    "            \n",
    "            encrypted_text += shifted_char\n",
    "        else:\n",
    "            # If the character is not a letter, leave it unchanged\n",
    "            encrypted_text += char\n",
    "\n",
    "    return encrypted_text\n",
    "\n",
    "# Example usage:\n",
    "plaintext = \"Hello, World!\"\n",
    "shift_key = 3\n",
    "encrypted_result = encrypt(plaintext, shift_key)\n",
    "\n",
    "print(f\"Original Text: {plaintext}\")\n",
    "print(f\"Encrypted Text: {encrypted_result}\")\n",
    "\n",
    "def decrypt(encrypted_text, key):\n",
    "    decrypted_text = \"\"\n",
    "\n",
    "    # Use the encrypt function with a negative key to perform decryption\n",
    "    decrypted_text = encrypt(encrypted_text, -key)\n",
    "\n",
    "    return decrypted_text\n",
    "\n",
    "# Example usage:\n",
    "encrypted_text = \"Khoor, Zruog!\"\n",
    "shift_key = 3\n",
    "decrypted_result = decrypt(encrypted_text, shift_key)\n",
    "\n",
    "print(f\"Encrypted Text: {encrypted_text}\")\n",
    "print(f\"Decrypted Text: {decrypted_result}\")"
   ]
  },
  {
   "cell_type": "code",
   "execution_count": 5,
   "id": "7bb57741",
   "metadata": {},
   "outputs": [
    {
     "name": "stdout",
     "output_type": "stream",
     "text": [
      "The area of the regular hexagon with side length 5 is: 64.95\n"
     ]
    }
   ],
   "source": [
    "import math\n",
    "\n",
    "def hexagon_area(side_length):\n",
    "    # Check if the side length is non-negative\n",
    "    if side_length < 0:\n",
    "        return None  # Return None for invalid input\n",
    "\n",
    "    # Calculate the area of the regular hexagon\n",
    "    area = (3 * math.sqrt(3) / 2) * side_length**2\n",
    "    return area\n",
    "\n",
    "# Example usage:\n",
    "side_length = 5\n",
    "result = hexagon_area(side_length)\n",
    "\n",
    "if result is not None:\n",
    "    print(f\"The area of the regular hexagon with side length {side_length} is: {result:.2f}\")\n",
    "else:\n",
    "    print(\"Invalid input. Please provide a non-negative side length.\")"
   ]
  },
  {
   "cell_type": "code",
   "execution_count": 6,
   "id": "5e3bb4b2",
   "metadata": {},
   "outputs": [
    {
     "name": "stdout",
     "output_type": "stream",
     "text": [
      "The largest element in the list is: 9\n"
     ]
    }
   ],
   "source": [
    "def find_largest_element(lst):\n",
    "    if not lst:\n",
    "        return None  # Return None for an empty list\n",
    "\n",
    "    largest = lst[0]  # Assume the first element is the largest\n",
    "\n",
    "    for element in lst:\n",
    "        if element > largest:\n",
    "            largest = element\n",
    "\n",
    "    return largest\n",
    "\n",
    "# Example usage:\n",
    "my_list = [3, 8, 1, 6, 9, 2, 5]\n",
    "result = find_largest_element(my_list)\n",
    "\n",
    "if result is not None:\n",
    "    print(f\"The largest element in the list is: {result}\")\n",
    "else:\n",
    "    print(\"The list is empty.\")"
   ]
  },
  {
   "cell_type": "code",
   "execution_count": 7,
   "id": "0911f352",
   "metadata": {},
   "outputs": [
    {
     "name": "stdout",
     "output_type": "stream",
     "text": [
      "Input String: level radar python deed civic\n",
      "Palindromes: ['level', 'eve', ' radar ', 'radar', 'ada', ' deed ', 'deed', 'ee', 'civic', 'ivi']\n"
     ]
    }
   ],
   "source": [
    "def is_palindrome(substring):\n",
    "    # Check if the substring is a palindrome\n",
    "    return substring == substring[::-1]\n",
    "\n",
    "def get_palindromes(input_string):\n",
    "    palindromes = []\n",
    "\n",
    "    # Iterate through all possible substrings\n",
    "    for i in range(len(input_string)):\n",
    "        for j in range(i + 1, len(input_string) + 1):\n",
    "            substring = input_string[i:j]\n",
    "\n",
    "            # Check if the substring is a palindrome and not an empty string\n",
    "            if is_palindrome(substring) and len(substring) > 1:\n",
    "                palindromes.append(substring)\n",
    "\n",
    "    return palindromes\n",
    "\n",
    "# Example usage:\n",
    "input_string = \"level radar python deed civic\"\n",
    "palindromes_result = get_palindromes(input_string)\n",
    "\n",
    "print(f\"Input String: {input_string}\")\n",
    "print(f\"Palindromes: {palindromes_result}\")"
   ]
  },
  {
   "cell_type": "code",
   "execution_count": 8,
   "id": "b97553e8",
   "metadata": {},
   "outputs": [
    {
     "name": "stdout",
     "output_type": "stream",
     "text": [
      "Is 'student_instance' an instance of 'Student' class? True\n",
      "Is 'marks_instance' an instance of 'Marks' class? True\n",
      "\n",
      "Is 'Student' class a subclass of 'object' class? True\n",
      "Is 'Marks' class a subclass of 'object' class? True\n"
     ]
    }
   ],
   "source": [
    "class Student:\n",
    "    pass\n",
    "\n",
    "class Marks:\n",
    "    pass\n",
    "\n",
    "# Creating instances of the classes\n",
    "student_instance = Student()\n",
    "marks_instance = Marks()\n",
    "\n",
    "# Checking if instances are of the specified classes\n",
    "is_student_instance = isinstance(student_instance, Student)\n",
    "is_marks_instance = isinstance(marks_instance, Marks)\n",
    "\n",
    "# Checking if classes are subclasses of the built-in object class\n",
    "is_student_subclass = issubclass(Student, object)\n",
    "is_marks_subclass = issubclass(Marks, object)\n",
    "\n",
    "# Displaying the results\n",
    "print(f\"Is 'student_instance' an instance of 'Student' class? {is_student_instance}\")\n",
    "print(f\"Is 'marks_instance' an instance of 'Marks' class? {is_marks_instance}\")\n",
    "\n",
    "print(f\"\\nIs 'Student' class a subclass of 'object' class? {is_student_subclass}\")\n",
    "print(f\"Is 'Marks' class a subclass of 'object' class? {is_marks_subclass}\")"
   ]
  },
  {
   "cell_type": "code",
   "execution_count": 9,
   "id": "8c7fbf8e",
   "metadata": {},
   "outputs": [
    {
     "name": "stdout",
     "output_type": "stream",
     "text": [
      "Happy Birthday, John! You are now 26 years old.\n"
     ]
    }
   ],
   "source": [
    "class BirthdayBoy:\n",
    "    def __init__(self, name, age):\n",
    "        self.name = name\n",
    "        self.age = age\n",
    "\n",
    "    def birthday(self):\n",
    "        self.age += 1\n",
    "        print(f\"Happy Birthday, {self.name}! You are now {self.age} years old.\")\n",
    "\n",
    "# Creating an instance of the class\n",
    "birthday_boy_instance = BirthdayBoy(name=\"John\", age=25)\n",
    "\n",
    "# Calling the birthday method to increase age and print the updated age\n",
    "birthday_boy_instance.birthday()\n"
   ]
  },
  {
   "cell_type": "code",
   "execution_count": 12,
   "id": "e576d747",
   "metadata": {},
   "outputs": [
    {
     "name": "stdout",
     "output_type": "stream",
     "text": [
      "May God Bless You,\n",
      "Have a sunshine on you,\n",
      "Happy Birthday to You.\n"
     ]
    }
   ],
   "source": [
    "class Songs:\n",
    "    def __init__(self, lyrics):\n",
    "        self.lyrics = lyrics\n",
    "\n",
    "    def SingMeASong(self):\n",
    "        for line in self.lyrics:\n",
    "            print(line)\n",
    "\n",
    "HappyBday = Songs([\n",
    "    \"May God Bless You,\",\n",
    "    \"Have a sunshine on you,\",\n",
    "    \"Happy Birthday to You.\"\n",
    "])\n",
    "\n",
    "HappyBday.SingMeASong()"
   ]
  },
  {
   "cell_type": "code",
   "execution_count": 14,
   "id": "202b684c",
   "metadata": {},
   "outputs": [
    {
     "name": "stdout",
     "output_type": "stream",
     "text": [
      "Buddy says: Woof! Woof!\n",
      "Dog's name: Fluffy\n",
      "Fluffy's age in dog years: 38.74 years\n"
     ]
    }
   ],
   "source": [
    "from datetime import datetime\n",
    "class Dog:\n",
    "    def __init__(self, name, size, breed='unknown', dob='unknown'):\n",
    "        self.SetName(name)\n",
    "        self.size = size\n",
    "        self.breed = breed\n",
    "        self.SetDOB(dob)\n",
    "\n",
    "    def Bark(self):\n",
    "        print(f\"{self.name} says: Woof! Woof!\")\n",
    "\n",
    "    def SetName(self, name):\n",
    "        # Convert the name to title case\n",
    "        title_case_name = name.title()\n",
    "\n",
    "        # Check if the name is between 2-30 alphabetical characters\n",
    "        if 2 <= len(title_case_name) <= 30 and title_case_name.isalpha():\n",
    "            self.name = title_case_name\n",
    "        else:\n",
    "            print(\"Invalid name. Please enter a name between 2-30 alphabetical characters.\")\n",
    "\n",
    "    def SetDOB(self, dob):\n",
    "        # Check if the date is in DD/MM/YYYY format\n",
    "        try:\n",
    "            datetime.strptime(dob, '%d/%m/%Y')\n",
    "            self.dob = dob\n",
    "        except ValueError:\n",
    "            print(\"Invalid date format. Please use DD/MM/YYYY.\")\n",
    "\n",
    "    def Age(self):\n",
    "        # Calculate age in dog years (1 human year = 7 dog years)\n",
    "        if self.dob != 'unknown':\n",
    "            birth_date = datetime.strptime(self.dob, '%d/%m/%Y')\n",
    "            today = datetime.today()\n",
    "            age_in_years = (today - birth_date).days / 365\n",
    "            age_in_dog_years = age_in_years * 7\n",
    "            return round(age_in_dog_years, 2)\n",
    "        else:\n",
    "            print(\"Date of Birth is unknown. Age calculation not possible.\")\n",
    "\n",
    "# Example usage:\n",
    "my_dog = Dog(name='Buddy', size='Medium', breed='Labrador', dob='10/05/2018')\n",
    "\n",
    "# Test Bark method\n",
    "my_dog.Bark()\n",
    "\n",
    "# Test SetName method\n",
    "my_dog.SetName('fluffy')\n",
    "print(f\"Dog's name: {my_dog.name}\")\n",
    "\n",
    "# Test Age method\n",
    "print(f\"{my_dog.name}'s age in dog years: {my_dog.Age()} years\")\n"
   ]
  }
 ],
 "metadata": {
  "kernelspec": {
   "display_name": "Python 3 (ipykernel)",
   "language": "python",
   "name": "python3"
  },
  "language_info": {
   "codemirror_mode": {
    "name": "ipython",
    "version": 3
   },
   "file_extension": ".py",
   "mimetype": "text/x-python",
   "name": "python",
   "nbconvert_exporter": "python",
   "pygments_lexer": "ipython3",
   "version": "3.11.3"
  }
 },
 "nbformat": 4,
 "nbformat_minor": 5
}
